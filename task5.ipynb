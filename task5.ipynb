{
  "nbformat": 4,
  "nbformat_minor": 0,
  "metadata": {
    "colab": {
      "provenance": []
    },
    "kernelspec": {
      "name": "python3",
      "display_name": "Python 3"
    },
    "language_info": {
      "name": "python"
    }
  },
  "cells": [
    {
      "cell_type": "code",
      "source": [
        "import pandas as pd\n",
        "import numpy as np\n",
        "from sklearn.tree import DecisionTreeClassifier, export_graphviz\n",
        "from sklearn.ensemble import RandomForestClassifier\n",
        "from sklearn.model_selection import train_test_split, cross_val_score\n",
        "from sklearn.metrics import accuracy_score\n",
        "import graphviz\n",
        "import matplotlib.pyplot as plt\n",
        "import seaborn as sns"
      ],
      "metadata": {
        "id": "aWxEs8-XVK9b"
      },
      "execution_count": 12,
      "outputs": []
    },
    {
      "cell_type": "code",
      "source": [
        "# Step 0: Load dataset\n",
        "data = pd.read_csv('heart.csv')\n",
        "\n",
        "# Features and target\n",
        "X = data.drop('target', axis=1)\n",
        "y = data['target']\n",
        "\n",
        "# Split data\n",
        "X_train, X_test, y_train, y_test = train_test_split(X, y, test_size=0.2, random_state=42)"
      ],
      "metadata": {
        "id": "PsCoCOVCVz_j"
      },
      "execution_count": 14,
      "outputs": []
    },
    {
      "cell_type": "code",
      "source": [
        "# Step 1: Train and visualize Decision Tree\n",
        "dt = DecisionTreeClassifier(random_state=42)\n",
        "dt.fit(X_train, y_train)\n",
        "\n",
        "# Visualize Decision Tree\n",
        "dot_data = export_graphviz(\n",
        "    dt, out_file=None,\n",
        "    feature_names=X.columns,\n",
        "    class_names=['No Disease', 'Disease'],\n",
        "    filled=True, rounded=True, special_characters=True\n",
        ")\n",
        "graph = graphviz.Source(dot_data)\n",
        "graph.render(\"decision_tree\", format=\"png\", view=True)"
      ],
      "metadata": {
        "colab": {
          "base_uri": "https://localhost:8080/",
          "height": 35
        },
        "id": "u5Q4f8wvV5yz",
        "outputId": "9a8879d6-e8d8-495e-d8fb-a8f430e6d385"
      },
      "execution_count": 15,
      "outputs": [
        {
          "output_type": "execute_result",
          "data": {
            "text/plain": [
              "'decision_tree.png'"
            ],
            "application/vnd.google.colaboratory.intrinsic+json": {
              "type": "string"
            }
          },
          "metadata": {},
          "execution_count": 15
        }
      ]
    },
    {
      "cell_type": "code",
      "source": [
        "# Step 2: Overfitting Analysis\n",
        "print(\"Default Decision Tree:\")\n",
        "print(f\"Train Accuracy: {accuracy_score(y_train, dt.predict(X_train)):.3f}\")\n",
        "print(f\"Test Accuracy: {accuracy_score(y_test, dt.predict(X_test)):.3f}\")\n",
        "\n",
        "# Pruned Decision Tree\n",
        "dt_pruned = DecisionTreeClassifier(max_depth=3, random_state=42)\n",
        "dt_pruned.fit(X_train, y_train)\n",
        "\n",
        "print(\"\\nPruned Decision Tree (max_depth=3):\")\n",
        "print(f\"Train Accuracy: {accuracy_score(y_train, dt_pruned.predict(X_train)):.3f}\")\n",
        "print(f\"Test Accuracy: {accuracy_score(y_test, dt_pruned.predict(X_test)):.3f}\")\n"
      ],
      "metadata": {
        "colab": {
          "base_uri": "https://localhost:8080/"
        },
        "id": "7sFyaMWkWD47",
        "outputId": "8d3822ee-e5d3-41e9-e5af-6922e8616d9b"
      },
      "execution_count": 16,
      "outputs": [
        {
          "output_type": "stream",
          "name": "stdout",
          "text": [
            "Default Decision Tree:\n",
            "Train Accuracy: 1.000\n",
            "Test Accuracy: 0.985\n",
            "\n",
            "Pruned Decision Tree (max_depth=3):\n",
            "Train Accuracy: 0.851\n",
            "Test Accuracy: 0.780\n"
          ]
        }
      ]
    },
    {
      "cell_type": "code",
      "source": [
        "# Step 3: Train Random Forest and compare\n",
        "rf = RandomForestClassifier(n_estimators=100, random_state=42)\n",
        "rf.fit(X_train, y_train)\n",
        "\n",
        "print(\"\\nRandom Forest:\")\n",
        "print(f\"Train Accuracy: {accuracy_score(y_train, rf.predict(X_train)):.3f}\")\n",
        "print(f\"Test Accuracy: {accuracy_score(y_test, rf.predict(X_test)):.3f}\")"
      ],
      "metadata": {
        "colab": {
          "base_uri": "https://localhost:8080/"
        },
        "id": "2EfSug37WJtu",
        "outputId": "e88e4bd9-ff34-4cf1-ab8a-69a465fa7e63"
      },
      "execution_count": 17,
      "outputs": [
        {
          "output_type": "stream",
          "name": "stdout",
          "text": [
            "\n",
            "Random Forest:\n",
            "Train Accuracy: 1.000\n",
            "Test Accuracy: 0.985\n"
          ]
        }
      ]
    },
    {
      "cell_type": "code",
      "source": [
        "# Step 4: Feature Importances\n",
        "importances = pd.Series(rf.feature_importances_, index=X.columns)\n",
        "importances_sorted = importances.sort_values(ascending=True)\n",
        "\n",
        "plt.figure(figsize=(8, 6))\n",
        "sns.barplot(x=importances_sorted, y=importances_sorted.index, palette=\"viridis\")\n",
        "plt.title(\"Feature Importances from Random Forest\")\n",
        "plt.xlabel(\"Importance Score\")\n",
        "plt.tight_layout()\n",
        "plt.show()"
      ],
      "metadata": {
        "colab": {
          "base_uri": "https://localhost:8080/",
          "height": 714
        },
        "id": "0ClUIBiMWMsO",
        "outputId": "bb7d3c01-86e3-456f-c697-cff6f8ca6bb8"
      },
      "execution_count": 18,
      "outputs": [
        {
          "output_type": "stream",
          "name": "stderr",
          "text": [
            "<ipython-input-18-615620f1a046>:6: FutureWarning: \n",
            "\n",
            "Passing `palette` without assigning `hue` is deprecated and will be removed in v0.14.0. Assign the `y` variable to `hue` and set `legend=False` for the same effect.\n",
            "\n",
            "  sns.barplot(x=importances_sorted, y=importances_sorted.index, palette=\"viridis\")\n"
          ]
        },
        {
          "output_type": "display_data",
          "data": {
            "text/plain": [
              "<Figure size 800x600 with 1 Axes>"
            ],
            "image/png": "[encoded data removed]"
          },
          "metadata": {}
        }
      ]
    },
    {
      "cell_type": "code",
      "source": [
        "# Step 5: Cross-validation\n",
        "dt_cv = cross_val_score(dt_pruned, X, y, cv=5)\n",
        "print(\"\\nPruned Decision Tree CV Accuracy:\")\n",
        "print(f\"Mean: {dt_cv.mean():.3f}, Std: {dt_cv.std() * 2:.3f}\")\n",
        "\n",
        "rf_cv = cross_val_score(rf, X, y, cv=5)\n",
        "print(\"\\nRandom Forest CV Accuracy:\")\n",
        "print(f\"Mean: {rf_cv.mean():.3f}, Std: {rf_cv.std() * 2:.3f}\")"
      ],
      "metadata": {
        "colab": {
          "base_uri": "https://localhost:8080/"
        },
        "id": "ZpR60EIgWP2I",
        "outputId": "98056aa1-bcfc-4e39-8fee-cae31848f6cd"
      },
      "execution_count": 19,
      "outputs": [
        {
          "output_type": "stream",
          "name": "stdout",
          "text": [
            "\n",
            "Pruned Decision Tree CV Accuracy:\n",
            "Mean: 0.830, Std: 0.042\n",
            "\n",
            "Random Forest CV Accuracy:\n",
            "Mean: 0.997, Std: 0.012\n"
          ]
        }
      ]
    }
  ]
}